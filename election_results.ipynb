{
 "cells": [
  {
   "cell_type": "code",
   "execution_count": 83,
   "metadata": {},
   "outputs": [],
   "source": [
    "import pandas as pd\n",
    "import numpy as np\n",
    "import random\n",
    "import json"
   ]
  },
  {
   "cell_type": "code",
   "execution_count": 84,
   "metadata": {},
   "outputs": [],
   "source": [
    "district_list = np.arange(1,12)\n",
    "district_df = []"
   ]
  },
  {
   "cell_type": "code",
   "execution_count": 85,
   "metadata": {},
   "outputs": [
    {
     "name": "stdout",
     "output_type": "stream",
     "text": [
      "['0000181', '0000179', '0000184', '0000180']\n"
     ]
    }
   ],
   "source": [
    "guide_list = ['alice', 'guardian', 'league & broke', 'berniecrats', 'chronicle', 'examiner']\n",
    "\n",
    "\n",
    "voter_guide_data = pd.DataFrame({\n",
    "    'alice': {'sup_1': '0000180', 'sup_2': '0000179', 'sup_3': '0000000'},\n",
    "    'guardian': {'sup_1': '0000181', 'sup_2': '0000180', 'sup_3': '0000000'},\n",
    "    'league & broke': {'sup_1': '0000181', 'sup_2': '0000180', 'sup_3': '0000184'},\n",
    "    'berniecrats': {'sup_1': '0000181', 'sup_2': '0000184', 'sup_3': '0000180'},\n",
    "    'chronicle': {'sup_1': '0000179', 'sup_2': '0000000', 'sup_3': '0000000'},\n",
    "    'examiner': {'sup_1': '0000180', 'sup_2': '0000000', 'sup_3': '0000000'}\n",
    "}).T\n",
    "\n",
    "candidate_list = list(set(voter_guide_data.values.flatten().tolist()))\n",
    "candidate_list.remove('0000000')\n",
    "print(candidate_list)\n"
   ]
  },
  {
   "cell_type": "code",
   "execution_count": 86,
   "metadata": {
    "scrolled": true
   },
   "outputs": [],
   "source": [
    "precinct_id_to_name = pd.read_csv('./precinct_id_to_name.txt', sep=\"\\t\")\n",
    "\n",
    "t1 = precinct_id_to_name.loc[:, ['precinct_id', 'name']]\n",
    "t1.rename(columns={'name': 'precinct_name'}, inplace=True)\n",
    "t1.precinct_name = t1.precinct_name.str[4:]\n",
    "t1.precinct_name = pd.to_numeric(t1.precinct_name)\n"
   ]
  },
  {
   "cell_type": "code",
   "execution_count": 87,
   "metadata": {},
   "outputs": [],
   "source": [
    "precinct_name_to_district = pd.read_csv('./precinct_name_to_district.txt', sep=\"\\t\")\n",
    "\n",
    "t2 = precinct_name_to_district.loc[:, ['VotingPrecinctName', 'Supervisorial']]\n",
    "t2.rename(columns={'VotingPrecinctName': 'precinct_name'}, inplace=True)\n",
    "t2.precinct_name = t2.precinct_name.str[4:]\n",
    "t2.precinct_name = pd.to_numeric(t2.precinct_name)"
   ]
  },
  {
   "cell_type": "code",
   "execution_count": 88,
   "metadata": {},
   "outputs": [
    {
     "name": "stdout",
     "output_type": "stream",
     "text": [
      "             precinct_name  Supervisorial\n",
      "precinct_id                              \n",
      "1                     1101             11\n",
      "2                     1102             11\n",
      "3                     1103             11\n",
      "4                     1104             11\n",
      "4                     1105             11\n",
      "5                     1106             11\n",
      "6                     1107             11\n",
      "7                     1108             11\n",
      "8                     1109             11\n",
      "9                     1111             11\n",
      "10                    1112             11\n",
      "11                    1113             11\n",
      "12                    1114             11\n",
      "13                    1115             11\n",
      "14                    1116             11\n",
      "15                    1117             11\n",
      "16                    1118             11\n",
      "17                    1119             11\n",
      "18                    1121             11\n",
      "19                    1122             11\n",
      "20                    1123             11\n",
      "21                    1124             11\n",
      "22                    1125             11\n",
      "23                    1126             11\n",
      "24                    1127             11\n",
      "25                    1128             11\n",
      "26                    1129             11\n",
      "27                    1131             11\n",
      "28                    1132             11\n",
      "29                    1133             11\n",
      "...                    ...            ...\n",
      "575                   9728              7\n",
      "576                   9729              7\n",
      "577                   9731              7\n",
      "578                   9732              7\n",
      "579                   9733              7\n",
      "580                   9734              7\n",
      "581                   9735              7\n",
      "582                   9736              7\n",
      "583                   9737              7\n",
      "584                   9738              7\n",
      "585                   9739              7\n",
      "586                   9741              7\n",
      "587                   9742              7\n",
      "588                   9743              7\n",
      "589                   9744              7\n",
      "590                   9745              7\n",
      "591                   9746              7\n",
      "592                   9747              7\n",
      "593                   9748              7\n",
      "594                   9749              7\n",
      "595                   9751              7\n",
      "596                   9752              7\n",
      "597                   9753              7\n",
      "598                   9754              7\n",
      "599                   9755              7\n",
      "600                   9756              7\n",
      "601                   9801              8\n",
      "602                   9900             10\n",
      "603                   9901              8\n",
      "604                   9902              7\n",
      "\n",
      "[610 rows x 2 columns]\n"
     ]
    }
   ],
   "source": [
    "precinct_id_to_district = pd.merge(t1, t2, on='precinct_name', how=\"inner\")\n",
    "precinct_id_to_district.set_index('precinct_id', inplace=True)\n",
    "print(precinct_id_to_district)"
   ]
  },
  {
   "cell_type": "code",
   "execution_count": 89,
   "metadata": {},
   "outputs": [],
   "source": [
    "data = pd.read_csv('./20180627_ballotimage.txt', sep=\" \", header=None)\n",
    "ballot = data.iloc[:, 0].astype(str)\n"
   ]
  },
  {
   "cell_type": "code",
   "execution_count": 90,
   "metadata": {},
   "outputs": [
    {
     "name": "stdout",
     "output_type": "stream",
     "text": [
      "    contest_id voter_number serial_number tally_type  precinct_id  rcv  \\\n",
      "70     0000020    000012909       0000001        002            9  002   \n",
      "71     0000020    000012909       0000001        002            9  003   \n",
      "139    0000020    000012932       0000001        002           10  002   \n",
      "140    0000020    000012932       0000001        002           10  003   \n",
      "172    0000020    000012943       0000001        002           18  002   \n",
      "173    0000020    000012943       0000001        002           18  003   \n",
      "224    0000020    000012960       0000001        002           19  003   \n",
      "256    0000020    000012971       0000001        002           19  002   \n",
      "257    0000020    000012971       0000001        002           19  003   \n",
      "264    0000020    000012974       0000001        002           19  001   \n",
      "274    0000020    000012977       0000001        002           19  002   \n",
      "275    0000020    000012977       0000001        002           19  003   \n",
      "287    0000020    000012981       0000001        002           19  003   \n",
      "289    0000020    000012982       0000001        002           19  002   \n",
      "290    0000020    000012982       0000001        002           19  003   \n",
      "293    0000020    000012983       0000001        002           19  003   \n",
      "317    0000020    000012991       0000001        002           43  003   \n",
      "344    0000020    000013000       0000001        002           43  003   \n",
      "401    0000020    000013019       0000001        002           43  003   \n",
      "425    0000020    000013027       0000001        002           44  003   \n",
      "\n",
      "    candidate_number over under  \n",
      "70           0000000    0     1  \n",
      "71           0000000    0     1  \n",
      "139          0000000    0     1  \n",
      "140          0000000    0     1  \n",
      "172          0000000    0     1  \n",
      "173          0000000    0     1  \n",
      "224          0000000    0     1  \n",
      "256          0000000    0     1  \n",
      "257          0000000    0     1  \n",
      "264          0000000    0     1  \n",
      "274          0000000    0     1  \n",
      "275          0000000    0     1  \n",
      "287          0000000    0     1  \n",
      "289          0000000    0     1  \n",
      "290          0000000    0     1  \n",
      "293          0000000    0     1  \n",
      "317          0000000    0     1  \n",
      "344          0000000    0     1  \n",
      "401          0000000    0     1  \n",
      "425          0000000    0     1  \n"
     ]
    }
   ],
   "source": [
    "input_ballot_data = pd.DataFrame({\n",
    "    'contest_id': ballot.str[0:7],\n",
    "    'voter_number': ballot.str[7:16],\n",
    "    'serial_number': ballot.str[16:23],\n",
    "    'tally_type': ballot.str[23: 26],\n",
    "    'precinct_id': ballot.str[26: 33],\n",
    "    'rcv': ballot.str[33: 36],\n",
    "    'candidate_number': ballot.str[36: 43],\n",
    "    'over': ballot.str[43],\n",
    "    'under': ballot.str[44]\n",
    "})\n",
    "\n",
    "input_ballot_data['precinct_id'] = pd.to_numeric(input_ballot_data['precinct_id'])\n",
    "print(input_ballot_data[input_ballot_data['under'] == '1'].head(20))\n",
    "#print(input_ballot_data.head())\n"
   ]
  },
  {
   "cell_type": "code",
   "execution_count": 91,
   "metadata": {
    "scrolled": true
   },
   "outputs": [],
   "source": [
    "ballot_data = pd.pivot_table(input_ballot_data, values='candidate_number', columns=\"rcv\", index=[\"precinct_id\", \"serial_number\"], aggfunc=\"first\")\n",
    "\n",
    "# Eliminate rows which have all columns as '0000000'\n",
    "ballot_data = ballot_data.loc[\n",
    "    ~((ballot_data['001'] == ballot_data['002']) & \n",
    "    (ballot_data['002'] == ballot_data['003']) & \n",
    "    (ballot_data['001'] == '0000000'))]\n",
    "\n",
    "\n",
    "\n",
    "precinct_id_list = [x[0] for x in ballot_data.index.values]\n",
    "precinct_id_list = set(precinct_id_list)\n",
    "\n",
    "\n",
    "for x in precinct_id_list:\n",
    "    ballot_data.loc[x, 'District'] = \"d_\" + str(precinct_id_to_district.iloc[x]['Supervisorial'])\n"
   ]
  },
  {
   "cell_type": "code",
   "execution_count": 92,
   "metadata": {},
   "outputs": [],
   "source": [
    "for x in district_list:\n",
    "    t = ballot_data[ballot_data['District'] == \"d_\" + str(x)]\n",
    "    district_df.append(t)\n"
   ]
  },
  {
   "cell_type": "code",
   "execution_count": 93,
   "metadata": {},
   "outputs": [
    {
     "name": "stdout",
     "output_type": "stream",
     "text": [
      "          alice  guardian  league & broke  berniecrats  chronicle  examiner  \\\n",
      "District                                                                      \n",
      "d_1        72.0     216.0            77.0          4.0      519.0     339.0   \n",
      "d_2       101.0     170.0            50.0          4.0      864.0     442.0   \n",
      "d_3        91.0     193.0            45.0          9.0      493.0     363.0   \n",
      "d_4        66.0     184.0            53.0          1.0      502.0     261.0   \n",
      "d_5       131.0     406.0           156.0         10.0      895.0     505.0   \n",
      "d_6        95.0     158.0            49.0          6.0      555.0     382.0   \n",
      "d_7       112.0     168.0            56.0          5.0      687.0     427.0   \n",
      "d_8       243.0     377.0           149.0         12.0      767.0     861.0   \n",
      "d_9        88.0     348.0           149.0          8.0      500.0     411.0   \n",
      "d_10       59.0     143.0            42.0          3.0      768.0     272.0   \n",
      "d_11       58.0     173.0            58.0          5.0      461.0     242.0   \n",
      "\n",
      "           other  total_votes  \n",
      "District                       \n",
      "d_1       1227.0       1551.0  \n",
      "d_2       1631.0       1959.0  \n",
      "d_3       1194.0       1490.0  \n",
      "d_4       1067.0       1533.0  \n",
      "d_5       2103.0       2335.0  \n",
      "d_6       1245.0       1544.0  \n",
      "d_7       1455.0       1815.0  \n",
      "d_8       2409.0       2428.0  \n",
      "d_9       1504.0       1724.0  \n",
      "d_10      1287.0       1616.0  \n",
      "d_11       997.0       1398.0  \n"
     ]
    }
   ],
   "source": [
    "col_list = []+ guide_list+ ['other', 'total_votes']\n",
    "\n",
    "guide_tally = pd.DataFrame(columns=col_list)\n",
    "guide_tally.index.name = 'District'\n",
    "\n",
    "for d in district_df:\n",
    "    district_name = d['District'][0]\n",
    "    for index, row in voter_guide_data.iterrows():\n",
    "        s = d[\n",
    "          (d['001'] == row['sup_1']) & \n",
    "          ((d['002'] == row['sup_2']) | (row['sup_2'] == '0000000')) & \n",
    "          ((d['003'] == row['sup_3']) | (row['sup_3'] == '0000000'))]\n",
    "        guide_tally.loc[district_name, row.name] = len(s.index)\n",
    "    guide_tally.loc[district_name, 'other'] = guide_tally.loc[district_name].sum()\n",
    "    guide_tally.loc[district_name, 'total_votes'] = len(d.index)\n",
    "print(guide_tally)\n"
   ]
  },
  {
   "cell_type": "code",
   "execution_count": 94,
   "metadata": {},
   "outputs": [
    {
     "name": "stdout",
     "output_type": "stream",
     "text": [
      "             alice  guardian  league & broke  berniecrats  chronicle  \\\n",
      "District                                                               \n",
      "d_1       0.046422  0.139265        0.049645     0.002579   0.334623   \n",
      "d_2       0.051557  0.086779        0.025523     0.002042   0.441041   \n",
      "d_3       0.061074  0.129530        0.030201     0.006040   0.330872   \n",
      "d_4       0.043053  0.120026        0.034573     0.000652   0.327462   \n",
      "d_5       0.056103  0.173876        0.066809     0.004283   0.383298   \n",
      "d_6       0.061528  0.102332        0.031736     0.003886   0.359456   \n",
      "d_7       0.061708  0.092562        0.030854     0.002755   0.378512   \n",
      "d_8       0.100082  0.155272        0.061367     0.004942   0.315898   \n",
      "d_9       0.051044  0.201856        0.086427     0.004640   0.290023   \n",
      "d_10      0.036510  0.088490        0.025990     0.001856   0.475248   \n",
      "d_11      0.041488  0.123748        0.041488     0.003577   0.329757   \n",
      "\n",
      "          examiner     other  total_votes  \n",
      "District                                   \n",
      "d_1       0.218569  0.791103       1551.0  \n",
      "d_2       0.225625  0.832568       1959.0  \n",
      "d_3       0.243624  0.801342       1490.0  \n",
      "d_4       0.170254  0.696021       1533.0  \n",
      "d_5       0.216274  0.900642       2335.0  \n",
      "d_6       0.247409  0.806347       1544.0  \n",
      "d_7       0.235262  0.801653       1815.0  \n",
      "d_8       0.354613  0.992175       2428.0  \n",
      "d_9       0.238399  0.872390       1724.0  \n",
      "d_10      0.168317  0.796411       1616.0  \n",
      "d_11      0.173104  0.713162       1398.0  \n"
     ]
    }
   ],
   "source": [
    "for g in guide_list:\n",
    "    guide_tally[g] = guide_tally[g] / guide_tally['total_votes']\n",
    "guide_tally['other'] = guide_tally['other'] / guide_tally['total_votes']\n",
    "print(guide_tally)    "
   ]
  },
  {
   "cell_type": "code",
   "execution_count": 95,
   "metadata": {},
   "outputs": [
    {
     "data": {
      "text/plain": [
       "<matplotlib.axes._subplots.AxesSubplot at 0x139f903c8>"
      ]
     },
     "execution_count": 95,
     "metadata": {},
     "output_type": "execute_result"
    },
    {
     "data": {
      "image/png": "[encoded data removed]",
      "text/plain": [
       "<Figure size 720x504 with 1 Axes>"
      ]
     },
     "metadata": {
      "needs_background": "light"
     },
     "output_type": "display_data"
    }
   ],
   "source": [
    "def generate_color_code():\n",
    "    random_number = random.randint(0,16777215)\n",
    "    hex_number = str(hex(random_number))\n",
    "    hex_number ='#'+ hex_number[2:]\n",
    "    return hex_number\n",
    "\n",
    "colors = [\"\"] * 7\n",
    "\n",
    "colors = list(map(lambda x: generate_color_code(), colors))\n",
    "guide_tally.loc[:, \"alice\": \"other\"].plot.bar(stacked=True, color=colors, figsize=(10,7))"
   ]
  },
  {
   "cell_type": "code",
   "execution_count": 96,
   "metadata": {},
   "outputs": [
    {
     "data": {
      "text/plain": [
       "<matplotlib.axes._subplots.AxesSubplot at 0x11e276c50>"
      ]
     },
     "execution_count": 96,
     "metadata": {},
     "output_type": "execute_result"
    },
    {
     "data": {
      "image/png": "[encoded data removed]",
      "text/plain": [
       "<Figure size 504x504 with 1 Axes>"
      ]
     },
     "metadata": {},
     "output_type": "display_data"
    }
   ],
   "source": [
    "# Find out number of people who didn't do RCV\n",
    "\n",
    "total_votes = len(input_ballot_data.index)\n",
    "total_with_under_votes = len(input_ballot_data[input_ballot_data[\"under\"] == \"1\"])\n",
    "total_with_over_votes = len(input_ballot_data[input_ballot_data[\"over\"] == \"1\"])\n",
    "\n",
    "\n",
    "pd.DataFrame({\n",
    "    'under votes': {'number': total_with_under_votes},\n",
    "    'over votes': {'number': total_with_over_votes},\n",
    "    'filled votes': {'number': total_votes - (total_with_over_votes  + total_with_under_votes)}\n",
    "}).T.plot.pie(y=\"number\", figsize=(7,7))\n",
    "\n",
    "\n"
   ]
  },
  {
   "cell_type": "code",
   "execution_count": 104,
   "metadata": {},
   "outputs": [
    {
     "name": "stdout",
     "output_type": "stream",
     "text": [
      "{\n",
      " \"d_1\": {\n",
      "  \"0000181\": 367,\n",
      "  \"0000179\": 519,\n",
      "  \"0000184\": 11,\n",
      "  \"0000180\": 339\n",
      " },\n",
      " \"d_2\": {\n",
      "  \"0000181\": 279,\n",
      "  \"0000179\": 864,\n",
      "  \"0000184\": 15,\n",
      "  \"0000180\": 442\n",
      " },\n",
      " \"d_3\": {\n",
      "  \"0000181\": 335,\n",
      "  \"0000179\": 493,\n",
      "  \"0000184\": 12,\n",
      "  \"0000180\": 363\n",
      " },\n",
      " \"d_4\": {\n",
      "  \"0000181\": 334,\n",
      "  \"0000179\": 502,\n",
      "  \"0000184\": 8,\n",
      "  \"0000180\": 261\n",
      " },\n",
      " \"d_5\": {\n",
      "  \"0000181\": 588,\n",
      "  \"0000179\": 895,\n",
      "  \"0000184\": 25,\n",
      "  \"0000180\": 505\n",
      " },\n",
      " \"d_6\": {\n",
      "  \"0000181\": 305,\n",
      "  \"0000179\": 555,\n",
      "  \"0000184\": 15,\n",
      "  \"0000180\": 382\n",
      " },\n",
      " \"d_7\": {\n",
      "  \"0000181\": 285,\n",
      "  \"0000179\": 687,\n",
      "  \"0000184\": 22,\n",
      "  \"0000180\": 427\n",
      " },\n",
      " \"d_8\": {\n",
      "  \"0000181\": 532,\n",
      "  \"0000179\": 767,\n",
      "  \"0000184\": 18,\n",
      "  \"0000180\": 861\n",
      " },\n",
      " \"d_9\": {\n",
      "  \"0000181\": 484,\n",
      "  \"0000179\": 500,\n",
      "  \"0000184\": 21,\n",
      "  \"0000180\": 411\n",
      " },\n",
      " \"d_10\": {\n",
      "  \"0000181\": 261,\n",
      "  \"0000179\": 768,\n",
      "  \"0000184\": 10,\n",
      "  \"0000180\": 272\n",
      " },\n",
      " \"d_11\": {\n",
      "  \"0000181\": 296,\n",
      "  \"0000179\": 461,\n",
      "  \"0000184\": 19,\n",
      "  \"0000180\": 242\n",
      " }\n",
      "}\n"
     ]
    }
   ],
   "source": [
    "# Calculate bullet votes\n",
    "bullet_votes_dict = {}\n",
    "candidate_slot_1_dict = {}\n",
    "\n",
    "for d in district_df:\n",
    "   name = d['District'][0]\n",
    "   bullet_votes_dict[name] = {}\n",
    "   candidate_slot_1_dict[name] = {}\n",
    "\n",
    "   x = d.loc[\n",
    "    (d['001'] == d['002']) & \n",
    "    (d['002'] == d['003']) & \n",
    "    (d['001'] != '0000000')]\n",
    "\n",
    "   for c_id in candidate_list:\n",
    "        bullet_votes_dict[name][c_id] = len(x.loc[(x['001'] == c_id)].index)\n",
    "        candidate_slot_1_dict[name][c_id] = len(d.loc[d['001'] == c_id].index)\n",
    "\n",
    "        \n",
    "print(json.dumps(candidate_slot_1_dict, indent=True))"
   ]
  },
  {
   "cell_type": "code",
   "execution_count": 122,
   "metadata": {},
   "outputs": [
    {
     "data": {
      "text/plain": [
       "<matplotlib.axes._subplots.AxesSubplot at 0x158248e48>"
      ]
     },
     "execution_count": 122,
     "metadata": {},
     "output_type": "execute_result"
    },
    {
     "data": {
      "image/png": "[encoded data removed]",
      "text/plain": [
       "<Figure size 720x720 with 1 Axes>"
      ]
     },
     "metadata": {
      "needs_background": "light"
     },
     "output_type": "display_data"
    },
    {
     "data": {
      "image/png": "[encoded data removed]",
      "text/plain": [
       "<Figure size 720x720 with 1 Axes>"
      ]
     },
     "metadata": {
      "needs_background": "light"
     },
     "output_type": "display_data"
    }
   ],
   "source": [
    "x = pd.DataFrame(bullet_votes_dict)\n",
    "z = x.apply(sum, axis=1)\n",
    "\n",
    "x1 = pd.DataFrame(candidate_slot_1_dict)\n",
    "z1 = x1.apply(sum, axis=1)\n",
    "\n",
    "pd.DataFrame({\n",
    "    'bullet_votes': z.values,\n",
    "    'total_votes_slot_1': z1.values\n",
    " }, index=z.index.to_list()).plot.bar(rot=0, figsize=(10, 10))\n",
    "\n",
    "\n",
    "x.T.plot.bar(stacked=True, color=colors, figsize=(10, 10))\n"
   ]
  },
  {
   "cell_type": "code",
   "execution_count": null,
   "metadata": {},
   "outputs": [],
   "source": []
  }
 ],
 "metadata": {
  "kernelspec": {
   "display_name": "Python 3",
   "language": "python",
   "name": "python3"
  },
  "language_info": {
   "codemirror_mode": {
    "name": "ipython",
    "version": 3
   },
   "file_extension": ".py",
   "mimetype": "text/x-python",
   "name": "python",
   "nbconvert_exporter": "python",
   "pygments_lexer": "ipython3",
   "version": "3.7.3"
  }
 },
 "nbformat": 4,
 "nbformat_minor": 2
}
