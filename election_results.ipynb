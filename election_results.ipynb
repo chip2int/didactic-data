{
 "cells": [
  {
   "cell_type": "code",
   "execution_count": 279,
   "metadata": {},
   "outputs": [],
   "source": [
    "import pandas as pd\n",
    "import numpy as np"
   ]
  },
  {
   "cell_type": "code",
   "execution_count": 280,
   "metadata": {},
   "outputs": [
    {
     "name": "stdout",
     "output_type": "stream",
     "text": [
      "                                                0\n",
      "0   000003600000918700000010020000507001000014200\n",
      "1   000003600000918700000010020000507002000013800\n",
      "2   000003600000918700000010020000507003000013900\n",
      "3   000003600000918800000010020000507001000014200\n",
      "4   000003600000918800000010020000507002000013700\n",
      "5   000003600000918800000010020000507003000014000\n",
      "6   000003600000918900000010020000507001000014100\n",
      "7   000003600000918900000010020000507002000000001\n",
      "8   000003600000918900000010020000507003000000001\n",
      "9   000003600000919000000010020000507001000014200\n",
      "10  000003600000919000000010020000507002000013700\n",
      "11  000003600000919000000010020000507003000014000\n",
      "12  000003600000919100000010020000507001000014200\n",
      "13  000003600000919100000010020000507002000000001\n",
      "14  000003600000919100000010020000507003000000001\n"
     ]
    }
   ],
   "source": [
    "data = pd.read_csv('./20181127_d4_ballotimage.txt', sep=\" \", header=None)\n",
    "print(data.head(15))"
   ]
  },
  {
   "cell_type": "code",
   "execution_count": 281,
   "metadata": {},
   "outputs": [
    {
     "name": "stdout",
     "output_type": "stream",
     "text": [
      "<class 'pandas.core.series.Series'>\n"
     ]
    }
   ],
   "source": [
    "ballot = data.iloc[:, 0].astype(str)\n",
    "print(type(ballot.str[0:4]))\n"
   ]
  },
  {
   "cell_type": "code",
   "execution_count": 282,
   "metadata": {},
   "outputs": [],
   "source": [
    "ballot_data = pd.DataFrame({\n",
    "    'district': ballot.str[0:7],\n",
    "    'serial_number': ballot.str[7:16],\n",
    "    'precint_number': ballot.str[16:23],\n",
    "    'unsure_1': ballot.str[23: 26],\n",
    "    'unsure_1': ballot.str[26: 33],\n",
    "    'rcv': ballot.str[33: 36],\n",
    "    'candidate_number': ballot.str[36: 43],\n",
    "    'unsure_2': ballot.str[43:45]\n",
    "})\n"
   ]
  },
  {
   "cell_type": "code",
   "execution_count": 283,
   "metadata": {},
   "outputs": [
    {
     "name": "stdout",
     "output_type": "stream",
     "text": [
      "rcv                001      002      003\n",
      "serial_number                           \n",
      "000009187      0000142  0000138  0000139\n",
      "000009188      0000142  0000137  0000140\n",
      "000009189      0000141  0000000  0000000\n",
      "000009190      0000142  0000137  0000140\n",
      "000009191      0000142  0000000  0000000\n"
     ]
    }
   ],
   "source": [
    "ballot_data = pd.pivot_table(ballot_data, values='candidate_number', columns=\"rcv\", index=\"serial_number\", aggfunc=\"first\")\n",
    "\n",
    "print(ballot_data.head())"
   ]
  },
  {
   "cell_type": "code",
   "execution_count": 284,
   "metadata": {},
   "outputs": [
    {
     "name": "stdout",
     "output_type": "stream",
     "text": [
      "         tally\n",
      "guide         \n",
      "alice      195\n",
      "guardian   121\n"
     ]
    }
   ],
   "source": [
    "voter_guide = pd.DataFrame({\n",
    "    'alice': {'sup_1': '0000141', 'sup_2': '0000142', 'sup_3': '0000143'},\n",
    "    'guardian': {'sup_1': '0000137', 'sup_2': '0000141', 'sup_3': '0000143'}\n",
    "}).T\n",
    "\n",
    "guide_tally = pd.DataFrame(columns=['tally'])\n",
    "guide_tally.index.name = 'guide'\n",
    "\n",
    "for index, row in voter_guide.iterrows():\n",
    "  s = ballot_data[(ballot_data['001'] == row['sup_1']) & (ballot_data['002'] == row['sup_2']) & (ballot_data['003'] == row['sup_3'])]\n",
    "  guide_tally.loc[index] = len(s.index)\n",
    "\n",
    "print(guide_tally.head())\n"
   ]
  }
 ],
 "metadata": {
  "kernelspec": {
   "display_name": "Python 3",
   "language": "python",
   "name": "python3"
  },
  "language_info": {
   "codemirror_mode": {
    "name": "ipython",
    "version": 3
   },
   "file_extension": ".py",
   "mimetype": "text/x-python",
   "name": "python",
   "nbconvert_exporter": "python",
   "pygments_lexer": "ipython3",
   "version": "3.7.3"
  }
 },
 "nbformat": 4,
 "nbformat_minor": 2
}
