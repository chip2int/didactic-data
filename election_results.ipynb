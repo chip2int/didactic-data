{
 "cells": [
  {
   "cell_type": "code",
   "execution_count": 806,
   "metadata": {},
   "outputs": [],
   "source": [
    "import pandas as pd\n",
    "import numpy as np\n",
    "import json"
   ]
  },
  {
   "cell_type": "code",
   "execution_count": 807,
   "metadata": {},
   "outputs": [],
   "source": [
    "district_list = np.arange(1,12)\n",
    "district_df = []"
   ]
  },
  {
   "cell_type": "code",
   "execution_count": 808,
   "metadata": {},
   "outputs": [],
   "source": [
    "guide_list = ['alice', 'guardian', 'league & broke', 'berniecrats']\n",
    "\n",
    "voter_guide_data = pd.DataFrame({\n",
    "    'alice': {'sup_1': '0000180', 'sup_2': '0000179', 'sup_3': '0000000'},\n",
    "    'guardian': {'sup_1': '0000181', 'sup_2': '0000180', 'sup_3': '0000000'},\n",
    "    'league & broke': {'sup_1': '0000181', 'sup_2': '0000180', 'sup_3': '0000184'},\n",
    "    'berniecrats': {'sup_1': '0000181', 'sup_2': '0000184', 'sup_3': '0000180'}\n",
    "}).T\n"
   ]
  },
  {
   "cell_type": "code",
   "execution_count": 809,
   "metadata": {
    "scrolled": true
   },
   "outputs": [],
   "source": [
    "\n",
    "precinct_id_to_name = pd.read_csv('./precinct_id_to_name.txt', sep=\"\\t\")\n",
    "\n",
    "t1 = precinct_id_to_name.loc[:, ['precinct_id', 'name']]\n",
    "t1.rename(columns={'name': 'precinct_name'}, inplace=True)\n",
    "t1.precinct_name = t1.precinct_name.str[4:]\n",
    "t1.precinct_name = pd.to_numeric(t1.precinct_name)\n"
   ]
  },
  {
   "cell_type": "code",
   "execution_count": 810,
   "metadata": {},
   "outputs": [],
   "source": [
    "precinct_name_to_district = pd.read_csv('./precinct_name_to_district.txt', sep=\"\\t\")\n",
    "\n",
    "t2 = precinct_name_to_district.loc[:, ['VotingPrecinctName', 'Supervisorial']]\n",
    "t2.rename(columns={'VotingPrecinctName': 'precinct_name'}, inplace=True)\n",
    "t2.precinct_name = t2.precinct_name.str[4:]\n",
    "t2.precinct_name = pd.to_numeric(t2.precinct_name)"
   ]
  },
  {
   "cell_type": "code",
   "execution_count": 811,
   "metadata": {},
   "outputs": [
    {
     "name": "stdout",
     "output_type": "stream",
     "text": [
      "             precinct_name  Supervisorial\n",
      "precinct_id                              \n",
      "1                     1101             11\n",
      "2                     1102             11\n",
      "3                     1103             11\n",
      "4                     1104             11\n",
      "4                     1105             11\n",
      "5                     1106             11\n",
      "6                     1107             11\n",
      "7                     1108             11\n",
      "8                     1109             11\n",
      "9                     1111             11\n",
      "10                    1112             11\n",
      "11                    1113             11\n",
      "12                    1114             11\n",
      "13                    1115             11\n",
      "14                    1116             11\n",
      "15                    1117             11\n",
      "16                    1118             11\n",
      "17                    1119             11\n",
      "18                    1121             11\n",
      "19                    1122             11\n",
      "20                    1123             11\n",
      "21                    1124             11\n",
      "22                    1125             11\n",
      "23                    1126             11\n",
      "24                    1127             11\n",
      "25                    1128             11\n",
      "26                    1129             11\n",
      "27                    1131             11\n",
      "28                    1132             11\n",
      "29                    1133             11\n",
      "...                    ...            ...\n",
      "575                   9728              7\n",
      "576                   9729              7\n",
      "577                   9731              7\n",
      "578                   9732              7\n",
      "579                   9733              7\n",
      "580                   9734              7\n",
      "581                   9735              7\n",
      "582                   9736              7\n",
      "583                   9737              7\n",
      "584                   9738              7\n",
      "585                   9739              7\n",
      "586                   9741              7\n",
      "587                   9742              7\n",
      "588                   9743              7\n",
      "589                   9744              7\n",
      "590                   9745              7\n",
      "591                   9746              7\n",
      "592                   9747              7\n",
      "593                   9748              7\n",
      "594                   9749              7\n",
      "595                   9751              7\n",
      "596                   9752              7\n",
      "597                   9753              7\n",
      "598                   9754              7\n",
      "599                   9755              7\n",
      "600                   9756              7\n",
      "601                   9801              8\n",
      "602                   9900             10\n",
      "603                   9901              8\n",
      "604                   9902              7\n",
      "\n",
      "[610 rows x 2 columns]\n"
     ]
    }
   ],
   "source": [
    "precinct_id_to_district = pd.merge(t1, t2, on='precinct_name', how=\"inner\")\n",
    "precinct_id_to_district.set_index('precinct_id', inplace=True)\n",
    "print(precinct_id_to_district)"
   ]
  },
  {
   "cell_type": "code",
   "execution_count": 812,
   "metadata": {},
   "outputs": [],
   "source": [
    "data = pd.read_csv('./20180627_ballotimage.txt', sep=\" \", header=None)\n",
    "ballot = data.iloc[:, 0].astype(str)\n"
   ]
  },
  {
   "cell_type": "code",
   "execution_count": 813,
   "metadata": {},
   "outputs": [
    {
     "name": "stdout",
     "output_type": "stream",
     "text": [
      "  contest_id voter_number serial_number tally_type  precinct_id  rcv  \\\n",
      "0    0000020    000012886       0000001        002            9  001   \n",
      "1    0000020    000012886       0000001        002            9  002   \n",
      "2    0000020    000012886       0000001        002            9  003   \n",
      "3    0000020    000012887       0000001        002            9  001   \n",
      "4    0000020    000012887       0000001        002            9  002   \n",
      "\n",
      "  candidate_number over under  \n",
      "0          0000181    0     0  \n",
      "1          0000185    0     0  \n",
      "2          0000180    0     0  \n",
      "3          0000181    0     0  \n",
      "4          0000183    0     0  \n"
     ]
    }
   ],
   "source": [
    "ballot_data = pd.DataFrame({\n",
    "    'contest_id': ballot.str[0:7],\n",
    "    'voter_number': ballot.str[7:16],\n",
    "    'serial_number': ballot.str[16:23],\n",
    "    'tally_type': ballot.str[23: 26],\n",
    "    'precinct_id': ballot.str[26: 33],\n",
    "    'rcv': ballot.str[33: 36],\n",
    "    'candidate_number': ballot.str[36: 43],\n",
    "    'over': ballot.str[43],\n",
    "    'under': ballot.str[44]\n",
    "})\n",
    "\n",
    "ballot_data['precinct_id'] = pd.to_numeric(ballot_data['precinct_id'] )\n",
    "print(ballot_data.head())\n"
   ]
  },
  {
   "cell_type": "code",
   "execution_count": 814,
   "metadata": {
    "scrolled": true
   },
   "outputs": [],
   "source": [
    "ballot_data = pd.pivot_table(ballot_data, values='candidate_number', columns=\"rcv\", index=[\"precinct_id\", \"serial_number\"], aggfunc=\"first\")\n",
    "\n",
    "precinct_id_list = [x[0] for x in ballot_data.index.values]\n",
    "precinct_id_list = set(precinct_id_list)\n",
    "\n",
    "\n",
    "for x in precinct_id_list:\n",
    "    ballot_data.loc[x, 'District'] = \"d_\" + str(precinct_id_to_district.iloc[x]['Supervisorial'])\n"
   ]
  },
  {
   "cell_type": "code",
   "execution_count": 815,
   "metadata": {},
   "outputs": [
    {
     "name": "stdout",
     "output_type": "stream",
     "text": [
      "rcv                            001      002      003 District\n",
      "precinct_id serial_number                                    \n",
      "97          0000004        0000179  0000183  0000182      d_1\n",
      "            0000015        0000180  0000181  0000000      d_1\n",
      "            0000018        0000180  0000181  0000183      d_1\n",
      "            0000019        0000181  0000180  0000184      d_1\n",
      "            0000031        0000179  0000180  0000000      d_1\n",
      "            0000036        0000179  0000180  0000183      d_1\n",
      "            0000038        0000000  0000181  0000179      d_1\n",
      "            0000045        0000179  0000183  0000180      d_1\n",
      "            0000051        0000179  0000183  0000185      d_1\n",
      "            0000060        0000179  0000183  0000180      d_1\n",
      "            0000065        0000179  0000180  0000000      d_1\n",
      "            0000072        0000179  0000180  0000181      d_1\n",
      "            0000084        0000180  0000179  0000181      d_1\n",
      "            0000090        0000179  0000183  0000180      d_1\n",
      "            0000101        0000179  0000180  0000183      d_1\n",
      "            0000117        0000180  0000183  0000184      d_1\n",
      "            0000134        0000179  0000000  0000000      d_1\n",
      "            0000150        0000183  0000183  0000179      d_1\n",
      "387         0000001        0000184  0000181  0000179      d_1\n",
      "            0000002        0000179  0000000  0000000      d_1\n",
      "            0000005        0000179  0000180  0000000      d_1\n",
      "            0000008        0000179  0000182  0000180      d_1\n",
      "            0000013        0000178  0000179  0000181      d_1\n",
      "            0000015        0000183  0000179  0000000      d_1\n",
      "            0000018        0000183  0000000  0000000      d_1\n",
      "            0000021        0000178  0000185  0000183      d_1\n",
      "            0000023        0000179  0000181  0000183      d_1\n",
      "            0000025        0000180  0000182  0000183      d_1\n",
      "            0000027        0000179  0000181  0000180      d_1\n",
      "            0000033        0000179  0000180  0000183      d_1\n",
      "...                            ...      ...      ...      ...\n",
      "433         0000025        0000183  0000180  0000182      d_1\n",
      "            0000028        0000180  0000179  0000184      d_1\n",
      "            0000037        0000182  0000181  0000183      d_1\n",
      "            0000038        0000000  0000000  0000000      d_1\n",
      "            0000039        0000179  0000184  0000185      d_1\n",
      "            0000040        0000000  0000000  0000000      d_1\n",
      "            0000042        0000179  0000179  0000180      d_1\n",
      "            0000043        0000182  0000180  0000000      d_1\n",
      "            0000045        0000179  0000180  0000181      d_1\n",
      "            0000055        0000180  0000181  0000179      d_1\n",
      "            0000060        0000183  0000180  0000000      d_1\n",
      "            0000064        0000000  0000000  0000000      d_1\n",
      "            0000065        0000179  0000000  0000000      d_1\n",
      "            0000070        0000179  0000179  0000179      d_1\n",
      "            0000077        0000179  0000179  0000179      d_1\n",
      "            0000082        0000180  0000179  0000181      d_1\n",
      "            0000089        0000179  0000000  0000000      d_1\n",
      "            0000099        0000182  0000183  0000181      d_1\n",
      "            0000113        0000179  0000179  0000179      d_1\n",
      "            0000125        0000180  0000181  0000000      d_1\n",
      "            0000127        0000182  0000183  0000000      d_1\n",
      "            0000140        0000183  0000180  0000179      d_1\n",
      "            0000145        0000180  0000181  0000000      d_1\n",
      "            0000150        0000179  0000180  0000183      d_1\n",
      "            0000151        0000000  0000000  0000000      d_1\n",
      "            0000159        0000180  0000181  0000000      d_1\n",
      "            0000161        0000181  0000180  0000000      d_1\n",
      "            0000168        0000000  0000000  0000000      d_1\n",
      "            0000169        0000179  0000000  0000000      d_1\n",
      "            0000421        0000179  0000183  0000181      d_1\n",
      "\n",
      "[1674 rows x 4 columns]\n"
     ]
    }
   ],
   "source": [
    "for x in district_list:\n",
    "    t = ballot_data[ballot_data['District'] == \"d_\" + str(x)]\n",
    "    district_df.append(t)\n",
    "\n",
    "print(district_df[0])"
   ]
  },
  {
   "cell_type": "code",
   "execution_count": 817,
   "metadata": {},
   "outputs": [
    {
     "name": "stdout",
     "output_type": "stream",
     "text": [
      "          alice  guardian  league & broke  berniecrats  other  total_votes\n",
      "District                                                                  \n",
      "d_1        72.0     216.0            77.0          4.0  369.0       1674.0\n",
      "d_2       101.0     170.0            50.0          4.0  325.0       2131.0\n",
      "d_3        91.0     193.0            45.0          9.0  338.0       1600.0\n",
      "d_4        66.0     184.0            53.0          1.0  304.0       1649.0\n",
      "d_5       131.0     406.0           156.0         10.0  703.0       2459.0\n",
      "d_6        95.0     158.0            49.0          6.0  308.0       1669.0\n",
      "d_7       112.0     168.0            56.0          5.0  341.0       1936.0\n",
      "d_8       243.0     377.0           149.0         12.0  781.0       2540.0\n",
      "d_9        88.0     348.0           149.0          8.0  593.0       1817.0\n",
      "d_10       59.0     143.0            42.0          3.0  247.0       1710.0\n",
      "d_11       58.0     173.0            58.0          5.0  294.0       1492.0\n"
     ]
    }
   ],
   "source": [
    "col_list = []+ guide_list+ ['other', 'total_votes']\n",
    "\n",
    "guide_tally = pd.DataFrame(columns=col_list)\n",
    "guide_tally.index.name = 'District'\n",
    "\n",
    "for d in district_df:\n",
    "    district_name = d['District'][0]\n",
    "    for index, row in voter_guide_data.iterrows():\n",
    "        s = d[\n",
    "          (d['001'] == row['sup_1']) & \n",
    "          (d['002'] == row['sup_2']) & \n",
    "          ((d['003'] == row['sup_3']) | (row['sup_3'] == '0000000'))]\n",
    "        guide_tally.loc[district_name, row.name] = len(s.index)\n",
    "        #guide_tally.loc[district_name, \"other\"] = \n",
    "        #guide_tally.loc[district_name, row.name + \"_pct\"] = str(\"{0:.2f}\".format(len(s.index)* 100 /len(d.index))) + \" %\"\n",
    "    guide_tally.loc[district_name, 'other'] = guide_tally.loc[district_name].sum()\n",
    "    guide_tally.loc[district_name, 'total_votes'] = len(d.index)\n",
    "\n",
    "\n",
    "print(guide_tally)\n"
   ]
  },
  {
   "cell_type": "code",
   "execution_count": null,
   "metadata": {},
   "outputs": [],
   "source": []
  }
 ],
 "metadata": {
  "kernelspec": {
   "display_name": "Python 3",
   "language": "python",
   "name": "python3"
  },
  "language_info": {
   "codemirror_mode": {
    "name": "ipython",
    "version": 3
   },
   "file_extension": ".py",
   "mimetype": "text/x-python",
   "name": "python",
   "nbconvert_exporter": "python",
   "pygments_lexer": "ipython3",
   "version": "3.7.3"
  }
 },
 "nbformat": 4,
 "nbformat_minor": 2
}
