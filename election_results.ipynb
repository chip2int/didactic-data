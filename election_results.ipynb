{
 "cells": [
  {
   "cell_type": "code",
   "execution_count": 13,
   "metadata": {},
   "outputs": [],
   "source": [
    "import pandas as pd\n",
    "import numpy as np"
   ]
  },
  {
   "cell_type": "code",
   "execution_count": 14,
   "metadata": {
    "scrolled": true
   },
   "outputs": [
    {
     "name": "stdout",
     "output_type": "stream",
     "text": [
      "                                                0\n",
      "0   000002000001288600000010020000009001000018100\n",
      "1   000002000001288600000010020000009002000018500\n",
      "2   000002000001288600000010020000009003000018000\n",
      "3   000002000001288700000010020000009001000018100\n",
      "4   000002000001288700000010020000009002000018300\n",
      "5   000002000001288700000010020000009003000018200\n",
      "6   000002000001288800000010020000009001000018100\n",
      "7   000002000001288800000010020000009002000017900\n",
      "8   000002000001288800000010020000009003000018300\n",
      "9   000002000001288900000010020000009001000018100\n",
      "10  000002000001288900000010020000009002000017900\n",
      "11  000002000001288900000010020000009003000018300\n",
      "12  000002000001289000000010020000009001000017900\n",
      "13  000002000001289000000010020000009002000018100\n",
      "14  000002000001289000000010020000009003000018000\n"
     ]
    }
   ],
   "source": [
    "data = pd.read_csv('./20180627_ballotimage.txt', sep=\" \", header=None)\n",
    "print(data.head(15))"
   ]
  },
  {
   "cell_type": "code",
   "execution_count": 15,
   "metadata": {},
   "outputs": [
    {
     "name": "stdout",
     "output_type": "stream",
     "text": [
      "<class 'pandas.core.series.Series'>\n"
     ]
    }
   ],
   "source": [
    "ballot = data.iloc[:, 0].astype(str)\n",
    "print(type(ballot.str[0:4]))\n"
   ]
  },
  {
   "cell_type": "code",
   "execution_count": 26,
   "metadata": {},
   "outputs": [
    {
     "name": "stdout",
     "output_type": "stream",
     "text": [
      "  contest_id voter_number serial_number tally_type precinct  rcv  \\\n",
      "0    0000020    000012886       0000001        002  0000009  001   \n",
      "1    0000020    000012886       0000001        002  0000009  002   \n",
      "2    0000020    000012886       0000001        002  0000009  003   \n",
      "3    0000020    000012887       0000001        002  0000009  001   \n",
      "4    0000020    000012887       0000001        002  0000009  002   \n",
      "\n",
      "  candidate_number over under  \n",
      "0          0000181    0     0  \n",
      "1          0000185    0     0  \n",
      "2          0000180    0     0  \n",
      "3          0000181    0     0  \n",
      "4          0000183    0     0  \n"
     ]
    }
   ],
   "source": [
    "ballot_data = pd.DataFrame({\n",
    "    'contest_id': ballot.str[0:7],\n",
    "    'voter_number': ballot.str[7:16],\n",
    "    'serial_number': ballot.str[16:23],\n",
    "    'tally_type': ballot.str[23: 26],\n",
    "    'precinct': ballot.str[26: 33],\n",
    "    'rcv': ballot.str[33: 36],\n",
    "    'candidate_number': ballot.str[36: 43],\n",
    "    'over': ballot.str[43],\n",
    "    'under': ballot.str[44]\n",
    "})\n",
    "print(ballot_data.head())"
   ]
  },
  {
   "cell_type": "code",
   "execution_count": 17,
   "metadata": {},
   "outputs": [
    {
     "name": "stdout",
     "output_type": "stream",
     "text": [
      "rcv                001      002      003\n",
      "serial_number                           \n",
      "0000001        0000181  0000185  0000180\n",
      "0000002        0000179  0000179  0000179\n",
      "0000003        0000180  0000179  0000185\n",
      "0000004        0000185  0000180  0000179\n",
      "0000005        0000180  0000179  0000178\n"
     ]
    }
   ],
   "source": [
    "ballot_data = pd.pivot_table(ballot_data, values='candidate_number', columns=\"rcv\", index=\"serial_number\", aggfunc=\"first\")\n",
    "\n",
    "print(ballot_data.head())"
   ]
  },
  {
   "cell_type": "code",
   "execution_count": 21,
   "metadata": {},
   "outputs": [
    {
     "name": "stdout",
     "output_type": "stream",
     "text": [
      "            tally\n",
      "guide            \n",
      "alice           3\n",
      "guardian       18\n",
      "league          9\n",
      "broke           9\n",
      "berniecrats     0\n"
     ]
    }
   ],
   "source": [
    "voter_guide = pd.DataFrame({\n",
    "    'alice': {'sup_1': '0000180', 'sup_2': '0000179', 'sup_3': '0000000'},\n",
    "    'guardian': {'sup_1': '0000181', 'sup_2': '0000180', 'sup_3': '0000000'},\n",
    "    'league': {'sup_1': '0000181', 'sup_2': '0000180', 'sup_3': '0000184'},\n",
    "    'broke': {'sup_1': '0000181', 'sup_2': '0000180', 'sup_3': '0000184'},\n",
    "    'berniecrats': {'sup_1': '0000181', 'sup_2': '0000184', 'sup_3': '0000180'}\n",
    "}).T\n",
    "\n",
    "\n",
    "#candidate codes\n",
    "# Mark Leno = 0000180\n",
    "# London Breed = 0000179\n",
    "# Amy Farah Weiss = 0000184\n",
    "# Jane Kim = 0000181\n",
    "# None?????????? = 0000000\n",
    "\n",
    "guide_tally = pd.DataFrame(columns=['tally'])\n",
    "guide_tally.index.name = 'guide'\n",
    "\n",
    "for index, row in voter_guide.iterrows():\n",
    "  s = ballot_data[(ballot_data['001'] == row['sup_1']) & (ballot_data['002'] == row['sup_2']) & (ballot_data['003'] == row['sup_3'])]\n",
    "  guide_tally.loc[index] = len(s.index)\n",
    "\n",
    "print(guide_tally.head())\n"
   ]
  },
  {
   "cell_type": "code",
   "execution_count": null,
   "metadata": {},
   "outputs": [],
   "source": []
  }
 ],
 "metadata": {
  "kernelspec": {
   "display_name": "Python 3",
   "language": "python",
   "name": "python3"
  },
  "language_info": {
   "codemirror_mode": {
    "name": "ipython",
    "version": 3
   },
   "file_extension": ".py",
   "mimetype": "text/x-python",
   "name": "python",
   "nbconvert_exporter": "python",
   "pygments_lexer": "ipython3",
   "version": "3.7.3"
  }
 },
 "nbformat": 4,
 "nbformat_minor": 2
}
