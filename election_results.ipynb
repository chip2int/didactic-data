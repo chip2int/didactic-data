{
 "cells": [
  {
   "cell_type": "code",
   "execution_count": 1198,
   "metadata": {},
   "outputs": [],
   "source": [
    "import pandas as pd\n",
    "import numpy as np\n",
    "import random\n",
    "import json"
   ]
  },
  {
   "cell_type": "code",
   "execution_count": 1199,
   "metadata": {},
   "outputs": [],
   "source": [
    "district_list = np.arange(1,12)\n",
    "district_df = []"
   ]
  },
  {
   "cell_type": "code",
   "execution_count": 1243,
   "metadata": {},
   "outputs": [
    {
     "name": "stdout",
     "output_type": "stream",
     "text": [
      "['0000179', '0000180', '0000181', '0000184']\n"
     ]
    }
   ],
   "source": [
    "guide_list = ['alice', 'guardian', 'league & broke', 'berniecrats', 'chronicle', 'examiner']\n",
    "\n",
    "\n",
    "voter_guide_data = pd.DataFrame({\n",
    "    'alice': {'sup_1': '0000180', 'sup_2': '0000179', 'sup_3': '0000000'},\n",
    "    'guardian': {'sup_1': '0000181', 'sup_2': '0000180', 'sup_3': '0000000'},\n",
    "    'league & broke': {'sup_1': '0000181', 'sup_2': '0000180', 'sup_3': '0000184'},\n",
    "    'berniecrats': {'sup_1': '0000181', 'sup_2': '0000184', 'sup_3': '0000180'},\n",
    "    'chronicle': {'sup_1': '0000179', 'sup_2': '0000000', 'sup_3': '0000000'},\n",
    "    'examiner': {'sup_1': '0000180', 'sup_2': '0000000', 'sup_3': '0000000'}\n",
    "}).T\n",
    "\n",
    "candidate_list = list(set(voter_guide_data.values.flatten().tolist()))\n",
    "candidate_list.remove('0000000')\n",
    "print(candidate_list)\n"
   ]
  },
  {
   "cell_type": "code",
   "execution_count": 1201,
   "metadata": {
    "scrolled": true
   },
   "outputs": [],
   "source": [
    "precinct_id_to_name = pd.read_csv('./precinct_id_to_name.txt', sep=\"\\t\")\n",
    "\n",
    "t1 = precinct_id_to_name.loc[:, ['precinct_id', 'name']]\n",
    "t1.rename(columns={'name': 'precinct_name'}, inplace=True)\n",
    "t1.precinct_name = t1.precinct_name.str[4:]\n",
    "t1.precinct_name = pd.to_numeric(t1.precinct_name)\n"
   ]
  },
  {
   "cell_type": "code",
   "execution_count": 1202,
   "metadata": {},
   "outputs": [],
   "source": [
    "precinct_name_to_district = pd.read_csv('./precinct_name_to_district.txt', sep=\"\\t\")\n",
    "\n",
    "t2 = precinct_name_to_district.loc[:, ['VotingPrecinctName', 'Supervisorial']]\n",
    "t2.rename(columns={'VotingPrecinctName': 'precinct_name'}, inplace=True)\n",
    "t2.precinct_name = t2.precinct_name.str[4:]\n",
    "t2.precinct_name = pd.to_numeric(t2.precinct_name)"
   ]
  },
  {
   "cell_type": "code",
   "execution_count": 1203,
   "metadata": {},
   "outputs": [
    {
     "name": "stdout",
     "output_type": "stream",
     "text": [
      "             precinct_name  Supervisorial\n",
      "precinct_id                              \n",
      "1                     1101             11\n",
      "2                     1102             11\n",
      "3                     1103             11\n",
      "4                     1104             11\n",
      "4                     1105             11\n",
      "5                     1106             11\n",
      "6                     1107             11\n",
      "7                     1108             11\n",
      "8                     1109             11\n",
      "9                     1111             11\n",
      "10                    1112             11\n",
      "11                    1113             11\n",
      "12                    1114             11\n",
      "13                    1115             11\n",
      "14                    1116             11\n",
      "15                    1117             11\n",
      "16                    1118             11\n",
      "17                    1119             11\n",
      "18                    1121             11\n",
      "19                    1122             11\n",
      "20                    1123             11\n",
      "21                    1124             11\n",
      "22                    1125             11\n",
      "23                    1126             11\n",
      "24                    1127             11\n",
      "25                    1128             11\n",
      "26                    1129             11\n",
      "27                    1131             11\n",
      "28                    1132             11\n",
      "29                    1133             11\n",
      "...                    ...            ...\n",
      "575                   9728              7\n",
      "576                   9729              7\n",
      "577                   9731              7\n",
      "578                   9732              7\n",
      "579                   9733              7\n",
      "580                   9734              7\n",
      "581                   9735              7\n",
      "582                   9736              7\n",
      "583                   9737              7\n",
      "584                   9738              7\n",
      "585                   9739              7\n",
      "586                   9741              7\n",
      "587                   9742              7\n",
      "588                   9743              7\n",
      "589                   9744              7\n",
      "590                   9745              7\n",
      "591                   9746              7\n",
      "592                   9747              7\n",
      "593                   9748              7\n",
      "594                   9749              7\n",
      "595                   9751              7\n",
      "596                   9752              7\n",
      "597                   9753              7\n",
      "598                   9754              7\n",
      "599                   9755              7\n",
      "600                   9756              7\n",
      "601                   9801              8\n",
      "602                   9900             10\n",
      "603                   9901              8\n",
      "604                   9902              7\n",
      "\n",
      "[610 rows x 2 columns]\n"
     ]
    }
   ],
   "source": [
    "precinct_id_to_district = pd.merge(t1, t2, on='precinct_name', how=\"inner\")\n",
    "precinct_id_to_district.set_index('precinct_id', inplace=True)\n",
    "print(precinct_id_to_district)"
   ]
  },
  {
   "cell_type": "code",
   "execution_count": 1204,
   "metadata": {},
   "outputs": [],
   "source": [
    "data = pd.read_csv('./20180627_ballotimage.txt', sep=\" \", header=None)\n",
    "ballot = data.iloc[:, 0].astype(str)\n"
   ]
  },
  {
   "cell_type": "code",
   "execution_count": 1220,
   "metadata": {},
   "outputs": [
    {
     "name": "stdout",
     "output_type": "stream",
     "text": [
      "    contest_id voter_number serial_number tally_type  precinct_id  rcv  \\\n",
      "70     0000020    000012909       0000001        002            9  002   \n",
      "71     0000020    000012909       0000001        002            9  003   \n",
      "139    0000020    000012932       0000001        002           10  002   \n",
      "140    0000020    000012932       0000001        002           10  003   \n",
      "172    0000020    000012943       0000001        002           18  002   \n",
      "173    0000020    000012943       0000001        002           18  003   \n",
      "224    0000020    000012960       0000001        002           19  003   \n",
      "256    0000020    000012971       0000001        002           19  002   \n",
      "257    0000020    000012971       0000001        002           19  003   \n",
      "264    0000020    000012974       0000001        002           19  001   \n",
      "274    0000020    000012977       0000001        002           19  002   \n",
      "275    0000020    000012977       0000001        002           19  003   \n",
      "287    0000020    000012981       0000001        002           19  003   \n",
      "289    0000020    000012982       0000001        002           19  002   \n",
      "290    0000020    000012982       0000001        002           19  003   \n",
      "293    0000020    000012983       0000001        002           19  003   \n",
      "317    0000020    000012991       0000001        002           43  003   \n",
      "344    0000020    000013000       0000001        002           43  003   \n",
      "401    0000020    000013019       0000001        002           43  003   \n",
      "425    0000020    000013027       0000001        002           44  003   \n",
      "\n",
      "    candidate_number over under  \n",
      "70           0000000    0     1  \n",
      "71           0000000    0     1  \n",
      "139          0000000    0     1  \n",
      "140          0000000    0     1  \n",
      "172          0000000    0     1  \n",
      "173          0000000    0     1  \n",
      "224          0000000    0     1  \n",
      "256          0000000    0     1  \n",
      "257          0000000    0     1  \n",
      "264          0000000    0     1  \n",
      "274          0000000    0     1  \n",
      "275          0000000    0     1  \n",
      "287          0000000    0     1  \n",
      "289          0000000    0     1  \n",
      "290          0000000    0     1  \n",
      "293          0000000    0     1  \n",
      "317          0000000    0     1  \n",
      "344          0000000    0     1  \n",
      "401          0000000    0     1  \n",
      "425          0000000    0     1  \n"
     ]
    }
   ],
   "source": [
    "input_ballot_data = pd.DataFrame({\n",
    "    'contest_id': ballot.str[0:7],\n",
    "    'voter_number': ballot.str[7:16],\n",
    "    'serial_number': ballot.str[16:23],\n",
    "    'tally_type': ballot.str[23: 26],\n",
    "    'precinct_id': ballot.str[26: 33],\n",
    "    'rcv': ballot.str[33: 36],\n",
    "    'candidate_number': ballot.str[36: 43],\n",
    "    'over': ballot.str[43],\n",
    "    'under': ballot.str[44]\n",
    "})\n",
    "\n",
    "input_ballot_data['precinct_id'] = pd.to_numeric(input_ballot_data['precinct_id'])\n",
    "print(input_ballot_data[input_ballot_data['under'] == '1'].head(20))\n",
    "#print(input_ballot_data.head())\n"
   ]
  },
  {
   "cell_type": "code",
   "execution_count": 1206,
   "metadata": {
    "scrolled": true
   },
   "outputs": [],
   "source": [
    "ballot_data = pd.pivot_table(input_ballot_data, values='candidate_number', columns=\"rcv\", index=[\"precinct_id\", \"serial_number\"], aggfunc=\"first\")\n",
    "\n",
    "precinct_id_list = [x[0] for x in ballot_data.index.values]\n",
    "precinct_id_list = set(precinct_id_list)\n",
    "\n",
    "\n",
    "for x in precinct_id_list:\n",
    "    ballot_data.loc[x, 'District'] = \"d_\" + str(precinct_id_to_district.iloc[x]['Supervisorial'])\n"
   ]
  },
  {
   "cell_type": "code",
   "execution_count": 1268,
   "metadata": {},
   "outputs": [
    {
     "name": "stdout",
     "output_type": "stream",
     "text": [
      "['001' '002' '003' 'District']\n",
      "8\n"
     ]
    }
   ],
   "source": [
    "for x in district_list:\n",
    "    t = ballot_data[ballot_data['District'] == \"d_\" + str(x)]\n",
    "    district_df.append(t)\n",
    "\n",
    "\n",
    "x = district_df[0].loc[\n",
    "    (district_df[0]['001'] == district_df[0]['002']) & \n",
    "    (district_df[0]['002'] == district_df[0]['003']) & \n",
    "    (district_df[0]['001'] != '0000000')]\n",
    "\n",
    "print(len(x.loc[(x['001'] == '0000181')].index))"
   ]
  },
  {
   "cell_type": "code",
   "execution_count": 1208,
   "metadata": {},
   "outputs": [
    {
     "name": "stdout",
     "output_type": "stream",
     "text": [
      "          alice  guardian  league & broke  berniecrats  chronicle  examiner  \\\n",
      "District                                                                      \n",
      "d_1        72.0     216.0            77.0          4.0      519.0     339.0   \n",
      "d_2       101.0     170.0            50.0          4.0      864.0     442.0   \n",
      "d_3        91.0     193.0            45.0          9.0      493.0     363.0   \n",
      "d_4        66.0     184.0            53.0          1.0      502.0     261.0   \n",
      "d_5       131.0     406.0           156.0         10.0      895.0     505.0   \n",
      "d_6        95.0     158.0            49.0          6.0      555.0     382.0   \n",
      "d_7       112.0     168.0            56.0          5.0      687.0     427.0   \n",
      "d_8       243.0     377.0           149.0         12.0      767.0     861.0   \n",
      "d_9        88.0     348.0           149.0          8.0      500.0     411.0   \n",
      "d_10       59.0     143.0            42.0          3.0      768.0     272.0   \n",
      "d_11       58.0     173.0            58.0          5.0      461.0     242.0   \n",
      "\n",
      "           other  total_votes  \n",
      "District                       \n",
      "d_1       1227.0       1674.0  \n",
      "d_2       1631.0       2131.0  \n",
      "d_3       1194.0       1600.0  \n",
      "d_4       1067.0       1649.0  \n",
      "d_5       2103.0       2459.0  \n",
      "d_6       1245.0       1669.0  \n",
      "d_7       1455.0       1936.0  \n",
      "d_8       2409.0       2540.0  \n",
      "d_9       1504.0       1817.0  \n",
      "d_10      1287.0       1710.0  \n",
      "d_11       997.0       1492.0  \n"
     ]
    }
   ],
   "source": [
    "col_list = []+ guide_list+ ['other', 'total_votes']\n",
    "\n",
    "guide_tally = pd.DataFrame(columns=col_list)\n",
    "guide_tally.index.name = 'District'\n",
    "\n",
    "for d in district_df:\n",
    "    district_name = d['District'][0]\n",
    "    for index, row in voter_guide_data.iterrows():\n",
    "        s = d[\n",
    "          (d['001'] == row['sup_1']) & \n",
    "          ((d['002'] == row['sup_2']) | (row['sup_2'] == '0000000')) & \n",
    "          ((d['003'] == row['sup_3']) | (row['sup_3'] == '0000000'))]\n",
    "        guide_tally.loc[district_name, row.name] = len(s.index)\n",
    "    guide_tally.loc[district_name, 'other'] = guide_tally.loc[district_name].sum()\n",
    "    guide_tally.loc[district_name, 'total_votes'] = len(d.index)\n",
    "print(guide_tally)\n"
   ]
  },
  {
   "cell_type": "code",
   "execution_count": 1209,
   "metadata": {},
   "outputs": [
    {
     "name": "stdout",
     "output_type": "stream",
     "text": [
      "             alice  guardian  league & broke  berniecrats  chronicle  \\\n",
      "District                                                               \n",
      "d_1       0.043011  0.129032        0.045998     0.002389   0.310036   \n",
      "d_2       0.047396  0.079775        0.023463     0.001877   0.405443   \n",
      "d_3       0.056875  0.120625        0.028125     0.005625   0.308125   \n",
      "d_4       0.040024  0.111583        0.032141     0.000606   0.304427   \n",
      "d_5       0.053274  0.165108        0.063440     0.004067   0.363969   \n",
      "d_6       0.056920  0.094667        0.029359     0.003595   0.332534   \n",
      "d_7       0.057851  0.086777        0.028926     0.002583   0.354855   \n",
      "d_8       0.095669  0.148425        0.058661     0.004724   0.301969   \n",
      "d_9       0.048431  0.191524        0.082003     0.004403   0.275179   \n",
      "d_10      0.034503  0.083626        0.024561     0.001754   0.449123   \n",
      "d_11      0.038874  0.115952        0.038874     0.003351   0.308981   \n",
      "\n",
      "          examiner     other  total_votes  \n",
      "District                                   \n",
      "d_1       0.202509  0.732975       1674.0  \n",
      "d_2       0.207414  0.765368       2131.0  \n",
      "d_3       0.226875  0.746250       1600.0  \n",
      "d_4       0.158278  0.647059       1649.0  \n",
      "d_5       0.205368  0.855226       2459.0  \n",
      "d_6       0.228880  0.745956       1669.0  \n",
      "d_7       0.220558  0.751550       1936.0  \n",
      "d_8       0.338976  0.948425       2540.0  \n",
      "d_9       0.226197  0.827738       1817.0  \n",
      "d_10      0.159064  0.752632       1710.0  \n",
      "d_11      0.162198  0.668231       1492.0  \n"
     ]
    }
   ],
   "source": [
    "for g in guide_list:\n",
    "    guide_tally[g] = guide_tally[g] / guide_tally['total_votes']\n",
    "guide_tally['other'] = guide_tally['other'] / guide_tally['total_votes']\n",
    "print(guide_tally)    "
   ]
  },
  {
   "cell_type": "code",
   "execution_count": 1213,
   "metadata": {},
   "outputs": [
    {
     "data": {
      "text/plain": [
       "<matplotlib.axes._subplots.AxesSubplot at 0x11f2e24e0>"
      ]
     },
     "execution_count": 1213,
     "metadata": {},
     "output_type": "execute_result"
    },
    {
     "data": {
      "image/png": "[encoded data removed]",
      "text/plain": [
       "<Figure size 720x504 with 1 Axes>"
      ]
     },
     "metadata": {
      "needs_background": "light"
     },
     "output_type": "display_data"
    }
   ],
   "source": [
    "def generate_color_code():\n",
    "    random_number = random.randint(0,16777215)\n",
    "    hex_number = str(hex(random_number))\n",
    "    hex_number ='#'+ hex_number[2:]\n",
    "    return hex_number\n",
    "\n",
    "colors = [\"\"] * 7\n",
    "\n",
    "colors = list(map(lambda x: generate_color_code(), colors))\n",
    "guide_tally.loc[:, \"alice\": \"other\"].plot.bar(stacked=True, color=colors, figsize=(10,7))"
   ]
  },
  {
   "cell_type": "code",
   "execution_count": 1225,
   "metadata": {},
   "outputs": [
    {
     "data": {
      "text/plain": [
       "<matplotlib.axes._subplots.AxesSubplot at 0x14fa01908>"
      ]
     },
     "execution_count": 1225,
     "metadata": {},
     "output_type": "execute_result"
    },
    {
     "data": {
      "image/png": "[encoded data removed]",
      "text/plain": [
       "<Figure size 504x504 with 1 Axes>"
      ]
     },
     "metadata": {},
     "output_type": "display_data"
    }
   ],
   "source": [
    "# Find out number of people who didn't do RCV\n",
    "\n",
    "total_votes = len(input_ballot_data.index)\n",
    "total_with_under_votes = len(input_ballot_data[input_ballot_data[\"under\"] == \"1\"])\n",
    "total_with_over_votes = len(input_ballot_data[input_ballot_data[\"over\"] == \"1\"])\n",
    "\n",
    "\n",
    "pd.DataFrame({\n",
    "    'under votes': {'number': total_with_under_votes},\n",
    "    'over votes': {'number': total_with_over_votes},\n",
    "    'filled votes': {'number': total_votes - (total_with_over_votes  + total_with_under_votes)}\n",
    "}).T.plot.pie(y=\"number\", figsize=(7,7))\n",
    "\n",
    "\n"
   ]
  },
  {
   "cell_type": "code",
   "execution_count": 1273,
   "metadata": {},
   "outputs": [
    {
     "name": "stdout",
     "output_type": "stream",
     "text": [
      "{\n",
      " \"d_1\": {\n",
      "  \"0000179\": 21,\n",
      "  \"0000180\": 8,\n",
      "  \"0000181\": 8,\n",
      "  \"0000184\": 0\n",
      " },\n",
      " \"d_2\": {\n",
      "  \"0000179\": 47,\n",
      "  \"0000180\": 18,\n",
      "  \"0000181\": 4,\n",
      "  \"0000184\": 1\n",
      " },\n",
      " \"d_3\": {\n",
      "  \"0000179\": 20,\n",
      "  \"0000180\": 16,\n",
      "  \"0000181\": 5,\n",
      "  \"0000184\": 0\n",
      " },\n",
      " \"d_4\": {\n",
      "  \"0000179\": 31,\n",
      "  \"0000180\": 12,\n",
      "  \"0000181\": 12,\n",
      "  \"0000184\": 0\n",
      " },\n",
      " \"d_5\": {\n",
      "  \"0000179\": 76,\n",
      "  \"0000180\": 13,\n",
      "  \"0000181\": 14,\n",
      "  \"0000184\": 3\n",
      " },\n",
      " \"d_6\": {\n",
      "  \"0000179\": 39,\n",
      "  \"0000180\": 10,\n",
      "  \"0000181\": 10,\n",
      "  \"0000184\": 1\n",
      " },\n",
      " \"d_7\": {\n",
      "  \"0000179\": 40,\n",
      "  \"0000180\": 19,\n",
      "  \"0000181\": 5,\n",
      "  \"0000184\": 1\n",
      " },\n",
      " \"d_8\": {\n",
      "  \"0000179\": 39,\n",
      "  \"0000180\": 26,\n",
      "  \"0000181\": 5,\n",
      "  \"0000184\": 0\n",
      " },\n",
      " \"d_9\": {\n",
      "  \"0000179\": 42,\n",
      "  \"0000180\": 15,\n",
      "  \"0000181\": 7,\n",
      "  \"0000184\": 2\n",
      " },\n",
      " \"d_10\": {\n",
      "  \"0000179\": 128,\n",
      "  \"0000180\": 12,\n",
      "  \"0000181\": 1,\n",
      "  \"0000184\": 0\n",
      " },\n",
      " \"d_11\": {\n",
      "  \"0000179\": 56,\n",
      "  \"0000180\": 14,\n",
      "  \"0000181\": 13,\n",
      "  \"0000184\": 1\n",
      " }\n",
      "}\n"
     ]
    }
   ],
   "source": [
    "# Calculate bullet votes\n",
    "bullet_votes_dict = {}\n",
    "for d in district_df:\n",
    "   name = d['District'][0]\n",
    "   bullet_votes_dict[name] = {}\n",
    "   x = d.loc[\n",
    "    (d['001'] == d['002']) & \n",
    "    (d['002'] == d['003']) & \n",
    "    (d['001'] != '0000000')]\n",
    "    \n",
    "   for c_id in candidate_list:\n",
    "     bullet_votes_dict[name][c_id] = len(x.loc[(x['001'] == c_id)].index)\n",
    "\n",
    "        \n",
    "print(json.dumps(bullet_votes_dict, indent=True))"
   ]
  },
  {
   "cell_type": "code",
   "execution_count": 1291,
   "metadata": {},
   "outputs": [
    {
     "data": {
      "text/plain": [
       "<matplotlib.axes._subplots.AxesSubplot at 0x11e7a6358>"
      ]
     },
     "execution_count": 1291,
     "metadata": {},
     "output_type": "execute_result"
    },
    {
     "data": {
      "image/png": "[encoded data removed]",
      "text/plain": [
       "<Figure size 720x504 with 1 Axes>"
      ]
     },
     "metadata": {
      "needs_background": "light"
     },
     "output_type": "display_data"
    },
    {
     "data": {
      "image/png": "[encoded data removed]",
      "text/plain": [
       "<Figure size 720x504 with 1 Axes>"
      ]
     },
     "metadata": {
      "needs_background": "light"
     },
     "output_type": "display_data"
    }
   ],
   "source": [
    "x = pd.DataFrame(bullet_votes_dict)\n",
    "z = x.apply(sum, axis=1)\n",
    "z.plot.bar(color=colors, figsize=(10,7))\n",
    "x.T.plot.bar(stacked=True, color=colors, figsize=(10,7))\n"
   ]
  },
  {
   "cell_type": "code",
   "execution_count": null,
   "metadata": {},
   "outputs": [],
   "source": []
  }
 ],
 "metadata": {
  "kernelspec": {
   "display_name": "Python 3",
   "language": "python",
   "name": "python3"
  },
  "language_info": {
   "codemirror_mode": {
    "name": "ipython",
    "version": 3
   },
   "file_extension": ".py",
   "mimetype": "text/x-python",
   "name": "python",
   "nbconvert_exporter": "python",
   "pygments_lexer": "ipython3",
   "version": "3.7.3"
  }
 },
 "nbformat": 4,
 "nbformat_minor": 2
}
